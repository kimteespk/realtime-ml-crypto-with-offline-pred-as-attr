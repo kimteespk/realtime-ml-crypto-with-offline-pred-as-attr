{
 "cells": [
  {
   "cell_type": "markdown",
   "metadata": {},
   "source": [
    "# INPUT"
   ]
  },
  {
   "cell_type": "code",
   "execution_count": 101,
   "metadata": {},
   "outputs": [],
   "source": [
    "user = 'confluent2'\n",
    "pwd = 'confluent2'\n",
    "db_name = 'default'\n",
    "host = 'localhost'\n",
    "port = '3307'"
   ]
  },
  {
   "cell_type": "code",
   "execution_count": 102,
   "metadata": {},
   "outputs": [],
   "source": [
    "table_name = 'ticker_ethusdt'"
   ]
  },
  {
   "cell_type": "code",
   "execution_count": 103,
   "metadata": {},
   "outputs": [],
   "source": [
    "from sqlalchemy import create_engine, text\n",
    "\n",
    "# Connect to the database\n",
    "engine = create_engine(f\"mysql+mysqlconnector://{user}:{pwd}@{host}:{port}/{db_name}\")\n",
    "\n",
    "# Test the connection\n",
    "connection = engine.connect()"
   ]
  },
  {
   "cell_type": "code",
   "execution_count": 92,
   "metadata": {},
   "outputs": [],
   "source": [
    "connection = engine.connect()\n",
    "\n",
    "insert_stmt = text(\n",
    "    f\"\"\"\n",
    "    INSERT INTO {table_name} \n",
    "    (closeTime, count, firstId, highPrice, lastId, lastPrice, \n",
    "    lowPrice, openPrice, openTime, priceChange, priceChangePercent, \n",
    "    quoteVolume, volume, weightedAvgPrice)\n",
    "    VALUES (\n",
    "        :closeTime, :count, :firstId, :highPrice, :lastId, :lastPrice, \n",
    "        :lowPrice, :openPrice, :openTime, :priceChange, :priceChangePercent, \n",
    "        :quoteVolume, :volume, :weightedAvgPrice\n",
    "    )\n",
    "    \"\"\"\n",
    ")\n",
    "\n",
    "\n",
    "connection.execute(insert_stmt, data)\n",
    "\n",
    "# Close the connection\n",
    "connection.close()"
   ]
  },
  {
   "cell_type": "code",
   "execution_count": null,
   "metadata": {},
   "outputs": [],
   "source": [
    "connection = engine.connect()\n",
    "\n",
    "insert_stmt = text(\n",
    "    f\"\"\"\n",
    "    INSERT INTO {table_name} \n",
    "        closeTime= :closeTime, \n",
    "        count= :count, \n",
    "        firstId= :firstId, \n",
    "        highPrice= :highPrice, \n",
    "        lastId= :lastId, \n",
    "        lastPrice= :lastPrice, \n",
    "        lowPrice= :lowPrice, \n",
    "        openPrice= :openPrice, \n",
    "        openTime=:openTime, \n",
    "        priceChange= :priceChange, \n",
    "        priceChangePercent= :priceChangePercent, \n",
    "        quoteVolume= :quoteVolume, \n",
    "        volume= :volume, \n",
    "        weightedAvgPrice= :weightedAvgPrice\n",
    "\n",
    "    \"\"\"\n",
    ")\n",
    "\n",
    "\n",
    "connection.execute(insert_stmt, data)\n",
    "\n",
    "# Close the connection\n",
    "connection.close()"
   ]
  },
  {
   "cell_type": "code",
   "execution_count": 99,
   "metadata": {},
   "outputs": [],
   "source": [
    "def db_select(table_name, stmt= 'SELECT * FROM TABLENAME'):\n",
    "    \n",
    "    # Test the connection\n",
    "    connection = engine.connect()\n",
    "    # Execute a SQL query using text\n",
    "    query = text(f'SELECT * FROM {table_name}')\n",
    "    result = connection.execute(query)\n",
    "\n",
    "    # Fetch the results\n",
    "    rows = result.fetchall()\n",
    "\n",
    "    # Close the connection\n",
    "    connection.close()\n",
    "    \n",
    "    return rows\n",
    "    \n",
    "    \n"
   ]
  },
  {
   "cell_type": "code",
   "execution_count": 26,
   "metadata": {},
   "outputs": [
    {
     "data": {
      "text/plain": [
       "{'priceChange': -0.81,\n",
       " 'priceChangePercent': -0.034,\n",
       " 'weightedAvgPrice': 2375.35247523,\n",
       " 'openPrice': 2376.4,\n",
       " 'highPrice': 2377.55,\n",
       " 'lowPrice': 2373.6,\n",
       " 'lastPrice': 2375.59,\n",
       " 'volume': 802.7666,\n",
       " 'quoteVolume': 1906853.630344,\n",
       " 'openTime': 1703862240000.0,\n",
       " 'closeTime': 1703862322203.0,\n",
       " 'firstId': 1264844455.0,\n",
       " 'lastId': 1264845771.0,\n",
       " 'count': 1317.0}"
      ]
     },
     "execution_count": 26,
     "metadata": {},
     "output_type": "execute_result"
    }
   ],
   "source": [
    "import requests\n",
    "def get_data(symbol= 'ETHUSDT', tf= '1m'):\n",
    "    symbol = symbol.upper()\n",
    "    endpoint = f'https://api.binance.com/api/v3/ticker?symbol={symbol}&windowSize={tf}'\n",
    "    res = requests.get(endpoint).json()\n",
    "    res = {k: float(v) for k, v in res.items() if k != 'symbol'}\n",
    "    \n",
    "    return res\n",
    "\n",
    "data = get_data()\n",
    "data"
   ]
  },
  {
   "cell_type": "code",
   "execution_count": 115,
   "metadata": {},
   "outputs": [
    {
     "name": "stderr",
     "output_type": "stream",
     "text": [
      "C:\\Users\\kimte\\AppData\\Local\\Temp\\ipykernel_18708\\1011949344.py:9: MovedIn20Warning: The ``declarative_base()`` function is now available as sqlalchemy.orm.declarative_base(). (deprecated since: 2.0) (Background on SQLAlchemy 2.0 at: https://sqlalche.me/e/b8d9)\n",
      "  Base = declarative_base()\n"
     ]
    }
   ],
   "source": [
    "from sqlalchemy import create_engine, Column, Float, Integer, DateTime, BigInteger\n",
    "from sqlalchemy.ext.declarative import declarative_base\n",
    "from sqlalchemy.orm import sessionmaker\n",
    "\n",
    "# Connect to the database\n",
    "engine = create_engine(f\"mysql+mysqlconnector://{user}:{pwd}@{host}:{port}/{db_name}\")\n",
    "\n",
    "# ORM Base\n",
    "Base = declarative_base()\n",
    "\n",
    "# ORM Model for ticker_ethusdt\n",
    "class TickerEthusdt(Base):\n",
    "    __tablename__ = 'ticker_ethusdt'\n",
    "\n",
    "    id = Column(Integer, primary_key=True, autoincrement=True)\n",
    "    closeTime = Column(BigInteger, nullable=False)\n",
    "    count = Column(Float, nullable=False)\n",
    "    firstId = Column(Float, nullable=False)\n",
    "    highPrice = Column(Float, nullable=False)\n",
    "    lastId = Column(Float, nullable=False)\n",
    "    lastPrice = Column(Float, nullable=False)\n",
    "    lowPrice = Column(Float, nullable=False)\n",
    "    openPrice = Column(Float, nullable=False)\n",
    "    openTime = Column(Integer, nullable=False)\n",
    "    priceChange = Column(Float, nullable=False)\n",
    "    priceChangePercent = Column(Float, nullable=False)\n",
    "    quoteVolume = Column(Float, nullable=False)\n",
    "    volume = Column(Float, nullable=False)\n",
    "    weightedAvgPrice = Column(Float, nullable=False)\n",
    "\n",
    "# Create the table in the database\n",
    "Base.metadata.create_all(engine)\n",
    "\n",
    "\n",
    "data = get_data()\n",
    "# Create a session\n",
    "Session = sessionmaker(bind=engine)\n",
    "session = Session()\n",
    "\n",
    "# Insert data into the table using ORM\n",
    "ticker_entry = TickerEthusdt(**data)\n",
    "session.add(ticker_entry)\n",
    "session.commit()\n",
    "\n",
    "# Close the session\n",
    "session.close()\n"
   ]
  },
  {
   "cell_type": "code",
   "execution_count": 116,
   "metadata": {},
   "outputs": [
    {
     "name": "stdout",
     "output_type": "stream",
     "text": [
      "(1703782154046, 2408.0, 1264049116.0, 2382.07, 1264051523.0, 2381.17, 2377.0, 2377.54, 1703782080000.0, 3.63, 0.153, 3463289.547115, 1455.7357, 2379.06478979)\n",
      "(1703863618858, 1325.0, 1264869869.0, 2356.93, 1264871193.0, 2356.78, 2353.4, 2356.9, 1703863500000.0, -0.12, -0.005, 1046309.163914, 444.2267, 2355.34956344)\n",
      "(1703865560103, 1297.0, 1264921931.0, 2329.48, 1264923227.0, 2325.84, 2325.6, 2327.06, 1703865480000.0, -1.22, -0.052, 1260725.028813, 541.4607, 2328.37771756)\n",
      "(1703865768251, 2640.0, 1264925063.0, 2329.59, 1264927702.0, 2320.91, 2320.0, 2329.46, 1703865660000.0, -8.55, -0.367, 2895670.72277, 1246.5414, 2322.96394068)\n"
     ]
    },
    {
     "data": {
      "text/plain": [
       "[(1703782154046, 2408.0, 1264049116.0, 2382.07, 1264051523.0, 2381.17, 2377.0, 2377.54, 1703782080000.0, 3.63, 0.153, 3463289.547115, 1455.7357, 2379.06478979),\n",
       " (1703863618858, 1325.0, 1264869869.0, 2356.93, 1264871193.0, 2356.78, 2353.4, 2356.9, 1703863500000.0, -0.12, -0.005, 1046309.163914, 444.2267, 2355.34956344),\n",
       " (1703865560103, 1297.0, 1264921931.0, 2329.48, 1264923227.0, 2325.84, 2325.6, 2327.06, 1703865480000.0, -1.22, -0.052, 1260725.028813, 541.4607, 2328.37771756),\n",
       " (1703865768251, 2640.0, 1264925063.0, 2329.59, 1264927702.0, 2320.91, 2320.0, 2329.46, 1703865660000.0, -8.55, -0.367, 2895670.72277, 1246.5414, 2322.96394068)]"
      ]
     },
     "execution_count": 116,
     "metadata": {},
     "output_type": "execute_result"
    }
   ],
   "source": [
    "db_select(table_name= table_name)"
   ]
  },
  {
   "cell_type": "code",
   "execution_count": 112,
   "metadata": {},
   "outputs": [
    {
     "name": "stdout",
     "output_type": "stream",
     "text": [
      "supakorn.sae-iab\n"
     ]
    }
   ],
   "source": [
    "class Id():\n",
    "    def __init__(self, name, surname) -> None:\n",
    "        self.name = name\n",
    "        self.surname = surname\n",
    "    \n",
    "    def combine_name(self):\n",
    "        self.full_name = self.name +'.'+self.surname\n",
    "class ShowName(Id):\n",
    "    def __init__(self, name, surname) -> None:\n",
    "        super().__init__(name, surname)\n",
    "        \n",
    "    def get_fullname(self):\n",
    "        self.combine_name()\n",
    "        \n",
    "    def printName(self):\n",
    "        print(self.full_name)\n",
    "        \n",
    "        \n",
    "mycls = ShowName('supakorn', 'sae-iab')\n",
    "# mycls.combine_name()\n",
    "mycls.get_fullname()\n",
    "mycls.printName()"
   ]
  }
 ],
 "metadata": {
  "kernelspec": {
   "display_name": "env",
   "language": "python",
   "name": "python3"
  },
  "language_info": {
   "codemirror_mode": {
    "name": "ipython",
    "version": 3
   },
   "file_extension": ".py",
   "mimetype": "text/x-python",
   "name": "python",
   "nbconvert_exporter": "python",
   "pygments_lexer": "ipython3",
   "version": "3.10.9"
  }
 },
 "nbformat": 4,
 "nbformat_minor": 2
}
