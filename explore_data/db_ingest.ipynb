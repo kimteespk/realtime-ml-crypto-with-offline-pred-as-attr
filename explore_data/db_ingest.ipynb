{
 "cells": [
  {
   "cell_type": "code",
   "execution_count": 20,
   "metadata": {},
   "outputs": [],
   "source": [
    "user = 'confluent2'\n",
    "pwd = 'confluent2'\n",
    "db_name = 'default'\n",
    "host = 'localhost'\n",
    "port = '3307'"
   ]
  },
  {
   "cell_type": "code",
   "execution_count": 21,
   "metadata": {},
   "outputs": [],
   "source": [
    "from sqlalchemy import create_engine, text\n",
    "\n",
    "# Connect to the database\n",
    "engine = create_engine(f\"mysql+mysqlconnector://{user}:{pwd}@{host}:{port}/{db_name}\")\n",
    "\n",
    "# Test the connection\n",
    "connection = engine.connect()"
   ]
  },
  {
   "cell_type": "code",
   "execution_count": 26,
   "metadata": {},
   "outputs": [
    {
     "name": "stdout",
     "output_type": "stream",
     "text": [
      "(1703782154046, 2408.0, 1264049116.0, 2382.07, 1264051523.0, 2381.17, 2377.0, 2377.54, 1703782080000.0, 3.63, 0.153, 3463289.547115, 1455.7357, 2379.06478979)\n"
     ]
    }
   ],
   "source": [
    "# Test the connection\n",
    "connection = engine.connect()\n",
    "# Execute a SQL query using text\n",
    "query = text('SELECT * FROM default.ticker_ethusdt')\n",
    "# query = text('SHOW TABLES')\n",
    "result = connection.execute(query)\n",
    "\n",
    "# Fetch the results\n",
    "rows = result.fetchall()\n",
    "\n",
    "# Do something with the fetched data\n",
    "for row in rows:\n",
    "    print(row)\n",
    "\n",
    "# Close the connection\n",
    "connection.close()\n"
   ]
  },
  {
   "cell_type": "code",
   "execution_count": 23,
   "metadata": {},
   "outputs": [
    {
     "data": {
      "text/plain": [
       "[]"
      ]
     },
     "execution_count": 23,
     "metadata": {},
     "output_type": "execute_result"
    }
   ],
   "source": [
    "rows"
   ]
  },
  {
   "cell_type": "code",
   "execution_count": 51,
   "metadata": {},
   "outputs": [
    {
     "data": {
      "text/plain": [
       "{'priceChange': -4.2,\n",
       " 'priceChangePercent': -0.176,\n",
       " 'weightedAvgPrice': 2380.32846968,\n",
       " 'openPrice': 2381.49,\n",
       " 'highPrice': 2382.45,\n",
       " 'lowPrice': 2376.85,\n",
       " 'lastPrice': 2377.29,\n",
       " 'volume': 813.5402,\n",
       " 'quoteVolume': 1936492.899293,\n",
       " 'openTime': 1703782140000.0,\n",
       " 'closeTime': 1703782228613.0,\n",
       " 'firstId': 1264051343.0,\n",
       " 'lastId': 1264052745.0,\n",
       " 'count': 1403.0}"
      ]
     },
     "execution_count": 51,
     "metadata": {},
     "output_type": "execute_result"
    }
   ],
   "source": [
    "import requests\n",
    "def get_data(symbol= 'ETHUSDT', tf= '1m'):\n",
    "    symbol = symbol.upper()\n",
    "    endpoint = f'https://api.binance.com/api/v3/ticker?symbol={symbol}&windowSize={tf}'\n",
    "    res = requests.get(endpoint).json()\n",
    "    res = {k: float(v) for k, v in res.items() if k != 'symbol'}\n",
    "    \n",
    "    return res\n",
    "\n",
    "data = get_data()\n",
    "data"
   ]
  },
  {
   "cell_type": "code",
   "execution_count": 25,
   "metadata": {},
   "outputs": [
    {
     "name": "stderr",
     "output_type": "stream",
     "text": [
      "C:\\Users\\kimte\\AppData\\Local\\Temp\\ipykernel_20632\\613826561.py:17: MovedIn20Warning: The ``declarative_base()`` function is now available as sqlalchemy.orm.declarative_base(). (deprecated since: 2.0) (Background on SQLAlchemy 2.0 at: https://sqlalche.me/e/b8d9)\n",
      "  Base = declarative_base()\n"
     ]
    }
   ],
   "source": [
    "from sqlalchemy import create_engine, Column, Float, Integer, DateTime\n",
    "from sqlalchemy.ext.declarative import declarative_base\n",
    "from sqlalchemy.orm import sessionmaker\n",
    "\n",
    "# Connect to the database\n",
    "engine = create_engine(f\"mysql+mysqlconnector://{user}:{pwd}@{host}:{port}/{db_name}\")\n",
    "\n",
    "# ORM Base\n",
    "Base = declarative_base()\n",
    "\n",
    "# ORM Model for ticker_ethusdt\n",
    "class TickerEthusdt(Base):\n",
    "    __tablename__ = 'ticker_ethusdt'\n",
    "\n",
    "    id = Column(Integer, primary_key=True, autoincrement=True)\n",
    "    closeTime = Column(DateTime, nullable=False)\n",
    "    count = Column(Float, nullable=False)\n",
    "    firstId = Column(Float, nullable=False)\n",
    "    highPrice = Column(Float, nullable=False)\n",
    "    lastId = Column(Float, nullable=False)\n",
    "    lastPrice = Column(Float, nullable=False)\n",
    "    lowPrice = Column(Float, nullable=False)\n",
    "    openPrice = Column(Float, nullable=False)\n",
    "    openTime = Column(DateTime, nullable=False)\n",
    "    priceChange = Column(Float, nullable=False)\n",
    "    priceChangePercent = Column(Float, nullable=False)\n",
    "    quoteVolume = Column(Float, nullable=False)\n",
    "    volume = Column(Float, nullable=False)\n",
    "    weightedAvgPrice = Column(Float, nullable=False)\n",
    "\n",
    "# Create the table in the database\n",
    "Base.metadata.create_all(engine)\n",
    "\n",
    "\n",
    "data = get_data()\n",
    "# Create a session\n",
    "Session = sessionmaker(bind=engine)\n",
    "session = Session()\n",
    "\n",
    "# Insert data into the table using ORM\n",
    "ticker_entry = TickerEthusdt(**data)\n",
    "session.add(ticker_entry)\n",
    "session.commit()\n",
    "\n",
    "# Close the session\n",
    "session.close()\n"
   ]
  },
  {
   "cell_type": "code",
   "execution_count": null,
   "metadata": {},
   "outputs": [],
   "source": []
  }
 ],
 "metadata": {
  "kernelspec": {
   "display_name": "env",
   "language": "python",
   "name": "python3"
  },
  "language_info": {
   "codemirror_mode": {
    "name": "ipython",
    "version": 3
   },
   "file_extension": ".py",
   "mimetype": "text/x-python",
   "name": "python",
   "nbconvert_exporter": "python",
   "pygments_lexer": "ipython3",
   "version": "3.10.9"
  }
 },
 "nbformat": 4,
 "nbformat_minor": 2
}
